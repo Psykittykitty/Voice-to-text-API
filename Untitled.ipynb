{
 "cells": [
  {
   "cell_type": "code",
   "execution_count": 2,
   "id": "cdfb8fd4-4b0a-4a0a-be37-8ea7998648a8",
   "metadata": {},
   "outputs": [],
   "source": [
    "import os\n",
    "import re\n",
    "import uuid\n",
    "import whisper\n",
    "from fastapi import FastAPI, File, UploadFile\n",
    "from fastapi.responses import PlainTextResponse\n",
    "\n",
    "app = FastAPI()\n",
    "model = whisper.load_model(\"small\")  # 你可以换成 \"base\"、\"medium\" 等模型名\n",
    "\n",
    "# 分别定义两种时间戳格式\n",
    "pattern_hhmmss = r\"\\[\\d{2}:\\d{2}:\\d{2}\\.\\d{3} --> \\d{2}:\\d{2}:\\d{2}\\.\\d{3}\\]\"\n",
    "pattern_mmss   = r\"\\[\\d{2}:\\d{2}\\.\\d{3} --> \\d{2}:\\d{2}\\.\\d{3}\\]\"\n",
    "\n",
    "# 合并为一个通用匹配正则\n",
    "timestamp_pattern = f\"(?:{pattern_hhmmss}|{pattern_mmss})\"\n",
    "\n",
    "def clean_text(txt_path: str) -> str:\n",
    "    lines = []\n",
    "    with open(txt_path, \"r\", encoding=\"utf-8\") as f:\n",
    "        for line in f:\n",
    "            # 去除时间戳\n",
    "            text = re.sub(timestamp_pattern, \"\", line).strip()\n",
    "            if text:\n",
    "                lines.append(text)\n",
    "    return \" \".join(lines)\n",
    "\n",
    "@app.post(\"/transcribe\", response_class=PlainTextResponse)\n",
    "async def transcribe(file: UploadFile = File(...)):\n",
    "    # 1. 保存上传的音频\n",
    "    temp_audio = f\"/tmp/{uuid.uuid4().hex}_{file.filename}\"\n",
    "    with open(temp_audio, \"wb\") as f:\n",
    "        f.write(await file.read())\n",
    "\n",
    "    # 2. 用 Whisper 转写，生成带时间戳的 txt\n",
    "    result = model.transcribe(temp_audio)\n",
    "    temp_txt = temp_audio + \".txt\"\n",
    "    with open(temp_txt, \"w\", encoding=\"utf-8\") as f_txt:\n",
    "        for seg in result[\"segments\"]:\n",
    "            f_txt.write(f\"[{seg['start']:.3f} --> {seg['end']:.3f}]  {seg['text'].strip()}\\n\")\n",
    "\n",
    "    # 3. 清除时间戳，留下纯文本\n",
    "    clean = clean_text(temp_txt)\n",
    "\n",
    "    # 4. 清理临时文件\n",
    "    os.remove(temp_audio)\n",
    "    os.remove(temp_txt)\n",
    "\n",
    "    # 5. 返回处理后的文本\n",
    "    return clean\n"
   ]
  },
  {
   "cell_type": "code",
   "execution_count": null,
   "id": "5904decb-0edf-4d33-9d65-8d7a083f45f7",
   "metadata": {},
   "outputs": [],
   "source": []
  }
 ],
 "metadata": {
  "kernelspec": {
   "display_name": "Python (whisper_env)",
   "language": "python",
   "name": "whisper_env"
  },
  "language_info": {
   "codemirror_mode": {
    "name": "ipython",
    "version": 3
   },
   "file_extension": ".py",
   "mimetype": "text/x-python",
   "name": "python",
   "nbconvert_exporter": "python",
   "pygments_lexer": "ipython3",
   "version": "3.10.18"
  }
 },
 "nbformat": 4,
 "nbformat_minor": 5
}
